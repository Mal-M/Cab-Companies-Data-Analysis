{
 "cells": [
  {
   "cell_type": "markdown",
   "id": "5c04e7d0",
   "metadata": {},
   "source": [
    "#### Import Necessary Libraries "
   ]
  },
  {
   "cell_type": "markdown",
   "id": "4621c21e",
   "metadata": {},
   "source": [
    "Overview"
   ]
  },
  {
   "cell_type": "markdown",
   "id": "278bfed4",
   "metadata": {},
   "source": [
    "XYZ is a private firm in US. Due to remarkable growth in the Cab Industry in last few years and multiple key players in the market, it is planning for an investment in Cab industry and as per their Go-to-Market(G2M) strategy they want to understand the market before taking final decision."
   ]
  },
  {
   "cell_type": "markdown",
   "id": "43e08cb7",
   "metadata": {},
   "source": [
    "#### Project Goals"
   ]
  },
  {
   "cell_type": "markdown",
   "id": "6b95a73e",
   "metadata": {},
   "source": [
    "Create several data visualizations that will give to the client insight into the Cab Industry, which will help\n",
    "them to identify the right company to make their investment."
   ]
  },
  {
   "cell_type": "markdown",
   "id": "a858a2a9",
   "metadata": {},
   "source": [
    "#### Prerequisite "
   ]
  },
  {
   "cell_type": "markdown",
   "id": "498264f0",
   "metadata": {},
   "source": [
    "The client has provided datasets.\n",
    "\n",
    "'Cab_Data.csv' – this file includes details of transaction for 2 cab companies;\n",
    "\n",
    "'Customer_ID.csv' – this is a mapping table that contains a unique identifier which links the customer’s demographic details;\n",
    "\n",
    "'Transaction_ID.csv' – this is a mapping table that contains transaction to customer mapping and payment mode;\n",
    "\n",
    "'City.csv' – this file contains list of US cities, their population and number of cab users;"
   ]
  },
  {
   "cell_type": "code",
   "execution_count": 2,
   "id": "ecf3c01b",
   "metadata": {},
   "outputs": [],
   "source": [
    "#1 \n",
    "# Import necessary libraries\n",
    "\n",
    "import pandas as pd\n",
    "import numpy as np\n",
    "import matplotlib.pyplot as plt\n",
    "import seaborn as sns"
   ]
  },
  {
   "cell_type": "code",
   "execution_count": 6,
   "id": "5f96c985",
   "metadata": {},
   "outputs": [
    {
     "name": "stdout",
     "output_type": "stream",
     "text": [
      "   Transaction ID Date of Travel   Company        City  KM Travelled  \\\n",
      "0        10000011     08-01-2016  Pink Cab  ATLANTA GA         30.45   \n",
      "1        10000012     06-01-2016  Pink Cab  ATLANTA GA         28.62   \n",
      "2        10000013     02-01-2016  Pink Cab  ATLANTA GA          9.04   \n",
      "3        10000014     07-01-2016  Pink Cab  ATLANTA GA         33.17   \n",
      "4        10000015     03-01-2016  Pink Cab  ATLANTA GA          8.73   \n",
      "\n",
      "   Price Charged  Cost of Trip  \n",
      "0         370.95       313.635  \n",
      "1         358.52       334.854  \n",
      "2         125.20        97.632  \n",
      "3         377.40       351.602  \n",
      "4         114.62        97.776  \n"
     ]
    }
   ],
   "source": [
    "# load each data and inspect it to gain familiarity with the data.\n",
    "cab_data = pd.read_csv(\"Cab_Data.csv\")\n",
    "print(cab_data.head())\n"
   ]
  },
  {
   "cell_type": "code",
   "execution_count": 7,
   "id": "1b42ad58",
   "metadata": {},
   "outputs": [
    {
     "data": {
      "text/html": [
       "<div>\n",
       "<style scoped>\n",
       "    .dataframe tbody tr th:only-of-type {\n",
       "        vertical-align: middle;\n",
       "    }\n",
       "\n",
       "    .dataframe tbody tr th {\n",
       "        vertical-align: top;\n",
       "    }\n",
       "\n",
       "    .dataframe thead th {\n",
       "        text-align: right;\n",
       "    }\n",
       "</style>\n",
       "<table border=\"1\" class=\"dataframe\">\n",
       "  <thead>\n",
       "    <tr style=\"text-align: right;\">\n",
       "      <th></th>\n",
       "      <th>Transaction ID</th>\n",
       "      <th>KM Travelled</th>\n",
       "      <th>Price Charged</th>\n",
       "      <th>Cost of Trip</th>\n",
       "    </tr>\n",
       "  </thead>\n",
       "  <tbody>\n",
       "    <tr>\n",
       "      <th>count</th>\n",
       "      <td>3.593920e+05</td>\n",
       "      <td>359392.000000</td>\n",
       "      <td>359392.000000</td>\n",
       "      <td>359392.000000</td>\n",
       "    </tr>\n",
       "    <tr>\n",
       "      <th>mean</th>\n",
       "      <td>1.022076e+07</td>\n",
       "      <td>22.567254</td>\n",
       "      <td>423.443311</td>\n",
       "      <td>286.190113</td>\n",
       "    </tr>\n",
       "    <tr>\n",
       "      <th>std</th>\n",
       "      <td>1.268058e+05</td>\n",
       "      <td>12.233526</td>\n",
       "      <td>274.378911</td>\n",
       "      <td>157.993661</td>\n",
       "    </tr>\n",
       "    <tr>\n",
       "      <th>min</th>\n",
       "      <td>1.000001e+07</td>\n",
       "      <td>1.900000</td>\n",
       "      <td>15.600000</td>\n",
       "      <td>19.000000</td>\n",
       "    </tr>\n",
       "    <tr>\n",
       "      <th>25%</th>\n",
       "      <td>1.011081e+07</td>\n",
       "      <td>12.000000</td>\n",
       "      <td>206.437500</td>\n",
       "      <td>151.200000</td>\n",
       "    </tr>\n",
       "    <tr>\n",
       "      <th>50%</th>\n",
       "      <td>1.022104e+07</td>\n",
       "      <td>22.440000</td>\n",
       "      <td>386.360000</td>\n",
       "      <td>282.480000</td>\n",
       "    </tr>\n",
       "    <tr>\n",
       "      <th>75%</th>\n",
       "      <td>1.033094e+07</td>\n",
       "      <td>32.960000</td>\n",
       "      <td>583.660000</td>\n",
       "      <td>413.683200</td>\n",
       "    </tr>\n",
       "    <tr>\n",
       "      <th>max</th>\n",
       "      <td>1.044011e+07</td>\n",
       "      <td>48.000000</td>\n",
       "      <td>2048.030000</td>\n",
       "      <td>691.200000</td>\n",
       "    </tr>\n",
       "  </tbody>\n",
       "</table>\n",
       "</div>"
      ],
      "text/plain": [
       "       Transaction ID   KM Travelled  Price Charged   Cost of Trip\n",
       "count    3.593920e+05  359392.000000  359392.000000  359392.000000\n",
       "mean     1.022076e+07      22.567254     423.443311     286.190113\n",
       "std      1.268058e+05      12.233526     274.378911     157.993661\n",
       "min      1.000001e+07       1.900000      15.600000      19.000000\n",
       "25%      1.011081e+07      12.000000     206.437500     151.200000\n",
       "50%      1.022104e+07      22.440000     386.360000     282.480000\n",
       "75%      1.033094e+07      32.960000     583.660000     413.683200\n",
       "max      1.044011e+07      48.000000    2048.030000     691.200000"
      ]
     },
     "execution_count": 7,
     "metadata": {},
     "output_type": "execute_result"
    }
   ],
   "source": [
    "# compute a summary of statistics pertaining to the DataFrame columns\n",
    "\n",
    "cab_data.describe()"
   ]
  },
  {
   "cell_type": "code",
   "execution_count": 8,
   "id": "9372f72f",
   "metadata": {},
   "outputs": [
    {
     "name": "stdout",
     "output_type": "stream",
     "text": [
      "Dataframe has 0 missing/NAN values\n"
     ]
    }
   ],
   "source": [
    "# Remove NAN or missing values from dataframe\n",
    "\n",
    "check_nan_values = cab_data.isnull().sum().sum()\n",
    "print(f'Dataframe has {check_nan_values} missing/NAN values')"
   ]
  },
  {
   "cell_type": "code",
   "execution_count": 9,
   "id": "a34944f8",
   "metadata": {},
   "outputs": [
    {
     "data": {
      "text/plain": [
       "array(['Pink Cab', 'Yellow Cab'], dtype=object)"
      ]
     },
     "execution_count": 9,
     "metadata": {},
     "output_type": "execute_result"
    }
   ],
   "source": [
    "cab_data.Company.unique()"
   ]
  },
  {
   "cell_type": "code",
   "execution_count": 95,
   "id": "82217fa8",
   "metadata": {},
   "outputs": [
    {
     "data": {
      "text/html": [
       "<div>\n",
       "<style scoped>\n",
       "    .dataframe tbody tr th:only-of-type {\n",
       "        vertical-align: middle;\n",
       "    }\n",
       "\n",
       "    .dataframe tbody tr th {\n",
       "        vertical-align: top;\n",
       "    }\n",
       "\n",
       "    .dataframe thead th {\n",
       "        text-align: right;\n",
       "    }\n",
       "</style>\n",
       "<table border=\"1\" class=\"dataframe\">\n",
       "  <thead>\n",
       "    <tr style=\"text-align: right;\">\n",
       "      <th></th>\n",
       "      <th>Transaction ID</th>\n",
       "      <th>Date of Travel</th>\n",
       "      <th>Company</th>\n",
       "      <th>City</th>\n",
       "      <th>KM Travelled</th>\n",
       "      <th>Price Charged</th>\n",
       "      <th>Cost of Trip</th>\n",
       "      <th>Profit</th>\n",
       "      <th>Month</th>\n",
       "      <th>Year</th>\n",
       "    </tr>\n",
       "  </thead>\n",
       "  <tbody>\n",
       "    <tr>\n",
       "      <th>0</th>\n",
       "      <td>10000011</td>\n",
       "      <td>08-01-2016</td>\n",
       "      <td>Pink Cab</td>\n",
       "      <td>ATLANTA GA</td>\n",
       "      <td>30.45</td>\n",
       "      <td>370.95</td>\n",
       "      <td>313.635</td>\n",
       "      <td>57.315</td>\n",
       "      <td>8</td>\n",
       "      <td>2016</td>\n",
       "    </tr>\n",
       "    <tr>\n",
       "      <th>1</th>\n",
       "      <td>10000012</td>\n",
       "      <td>06-01-2016</td>\n",
       "      <td>Pink Cab</td>\n",
       "      <td>ATLANTA GA</td>\n",
       "      <td>28.62</td>\n",
       "      <td>358.52</td>\n",
       "      <td>334.854</td>\n",
       "      <td>23.666</td>\n",
       "      <td>6</td>\n",
       "      <td>2016</td>\n",
       "    </tr>\n",
       "    <tr>\n",
       "      <th>2</th>\n",
       "      <td>10000013</td>\n",
       "      <td>02-01-2016</td>\n",
       "      <td>Pink Cab</td>\n",
       "      <td>ATLANTA GA</td>\n",
       "      <td>9.04</td>\n",
       "      <td>125.20</td>\n",
       "      <td>97.632</td>\n",
       "      <td>27.568</td>\n",
       "      <td>2</td>\n",
       "      <td>2016</td>\n",
       "    </tr>\n",
       "    <tr>\n",
       "      <th>3</th>\n",
       "      <td>10000014</td>\n",
       "      <td>07-01-2016</td>\n",
       "      <td>Pink Cab</td>\n",
       "      <td>ATLANTA GA</td>\n",
       "      <td>33.17</td>\n",
       "      <td>377.40</td>\n",
       "      <td>351.602</td>\n",
       "      <td>25.798</td>\n",
       "      <td>7</td>\n",
       "      <td>2016</td>\n",
       "    </tr>\n",
       "    <tr>\n",
       "      <th>4</th>\n",
       "      <td>10000015</td>\n",
       "      <td>03-01-2016</td>\n",
       "      <td>Pink Cab</td>\n",
       "      <td>ATLANTA GA</td>\n",
       "      <td>8.73</td>\n",
       "      <td>114.62</td>\n",
       "      <td>97.776</td>\n",
       "      <td>16.844</td>\n",
       "      <td>3</td>\n",
       "      <td>2016</td>\n",
       "    </tr>\n",
       "  </tbody>\n",
       "</table>\n",
       "</div>"
      ],
      "text/plain": [
       "   Transaction ID Date of Travel   Company        City  KM Travelled  \\\n",
       "0        10000011     08-01-2016  Pink Cab  ATLANTA GA         30.45   \n",
       "1        10000012     06-01-2016  Pink Cab  ATLANTA GA         28.62   \n",
       "2        10000013     02-01-2016  Pink Cab  ATLANTA GA          9.04   \n",
       "3        10000014     07-01-2016  Pink Cab  ATLANTA GA         33.17   \n",
       "4        10000015     03-01-2016  Pink Cab  ATLANTA GA          8.73   \n",
       "\n",
       "   Price Charged  Cost of Trip  Profit  Month  Year  \n",
       "0         370.95       313.635  57.315      8  2016  \n",
       "1         358.52       334.854  23.666      6  2016  \n",
       "2         125.20        97.632  27.568      2  2016  \n",
       "3         377.40       351.602  25.798      7  2016  \n",
       "4         114.62        97.776  16.844      3  2016  "
      ]
     },
     "execution_count": 95,
     "metadata": {},
     "output_type": "execute_result"
    }
   ],
   "source": [
    "# add new column 'Profit'\n",
    "\n",
    "cab_data[\"Profit\"] = cab_data[\"Price Charged\"] - cab_data[\"Cost of Trip\"]\n",
    "cab_data.head()"
   ]
  },
  {
   "cell_type": "code",
   "execution_count": 96,
   "id": "2c1d2601",
   "metadata": {},
   "outputs": [
    {
     "data": {
      "text/html": [
       "<div>\n",
       "<style scoped>\n",
       "    .dataframe tbody tr th:only-of-type {\n",
       "        vertical-align: middle;\n",
       "    }\n",
       "\n",
       "    .dataframe tbody tr th {\n",
       "        vertical-align: top;\n",
       "    }\n",
       "\n",
       "    .dataframe thead th {\n",
       "        text-align: right;\n",
       "    }\n",
       "</style>\n",
       "<table border=\"1\" class=\"dataframe\">\n",
       "  <thead>\n",
       "    <tr style=\"text-align: right;\">\n",
       "      <th></th>\n",
       "      <th>Transaction ID</th>\n",
       "      <th>Date of Travel</th>\n",
       "      <th>Company</th>\n",
       "      <th>City</th>\n",
       "      <th>KM Travelled</th>\n",
       "      <th>Price Charged</th>\n",
       "      <th>Cost of Trip</th>\n",
       "      <th>Profit</th>\n",
       "      <th>Month</th>\n",
       "      <th>Year</th>\n",
       "    </tr>\n",
       "  </thead>\n",
       "  <tbody>\n",
       "    <tr>\n",
       "      <th>0</th>\n",
       "      <td>10000011</td>\n",
       "      <td>08-01-2016</td>\n",
       "      <td>Pink Cab</td>\n",
       "      <td>ATLANTA GA</td>\n",
       "      <td>30.45</td>\n",
       "      <td>370.95</td>\n",
       "      <td>313.635</td>\n",
       "      <td>57.315</td>\n",
       "      <td>8</td>\n",
       "      <td>2016</td>\n",
       "    </tr>\n",
       "    <tr>\n",
       "      <th>1</th>\n",
       "      <td>10000012</td>\n",
       "      <td>06-01-2016</td>\n",
       "      <td>Pink Cab</td>\n",
       "      <td>ATLANTA GA</td>\n",
       "      <td>28.62</td>\n",
       "      <td>358.52</td>\n",
       "      <td>334.854</td>\n",
       "      <td>23.666</td>\n",
       "      <td>6</td>\n",
       "      <td>2016</td>\n",
       "    </tr>\n",
       "    <tr>\n",
       "      <th>2</th>\n",
       "      <td>10000013</td>\n",
       "      <td>02-01-2016</td>\n",
       "      <td>Pink Cab</td>\n",
       "      <td>ATLANTA GA</td>\n",
       "      <td>9.04</td>\n",
       "      <td>125.20</td>\n",
       "      <td>97.632</td>\n",
       "      <td>27.568</td>\n",
       "      <td>2</td>\n",
       "      <td>2016</td>\n",
       "    </tr>\n",
       "    <tr>\n",
       "      <th>3</th>\n",
       "      <td>10000014</td>\n",
       "      <td>07-01-2016</td>\n",
       "      <td>Pink Cab</td>\n",
       "      <td>ATLANTA GA</td>\n",
       "      <td>33.17</td>\n",
       "      <td>377.40</td>\n",
       "      <td>351.602</td>\n",
       "      <td>25.798</td>\n",
       "      <td>7</td>\n",
       "      <td>2016</td>\n",
       "    </tr>\n",
       "    <tr>\n",
       "      <th>4</th>\n",
       "      <td>10000015</td>\n",
       "      <td>03-01-2016</td>\n",
       "      <td>Pink Cab</td>\n",
       "      <td>ATLANTA GA</td>\n",
       "      <td>8.73</td>\n",
       "      <td>114.62</td>\n",
       "      <td>97.776</td>\n",
       "      <td>16.844</td>\n",
       "      <td>3</td>\n",
       "      <td>2016</td>\n",
       "    </tr>\n",
       "  </tbody>\n",
       "</table>\n",
       "</div>"
      ],
      "text/plain": [
       "   Transaction ID Date of Travel   Company        City  KM Travelled  \\\n",
       "0        10000011     08-01-2016  Pink Cab  ATLANTA GA         30.45   \n",
       "1        10000012     06-01-2016  Pink Cab  ATLANTA GA         28.62   \n",
       "2        10000013     02-01-2016  Pink Cab  ATLANTA GA          9.04   \n",
       "3        10000014     07-01-2016  Pink Cab  ATLANTA GA         33.17   \n",
       "4        10000015     03-01-2016  Pink Cab  ATLANTA GA          8.73   \n",
       "\n",
       "   Price Charged  Cost of Trip  Profit  Month  Year  \n",
       "0         370.95       313.635  57.315      8  2016  \n",
       "1         358.52       334.854  23.666      6  2016  \n",
       "2         125.20        97.632  27.568      2  2016  \n",
       "3         377.40       351.602  25.798      7  2016  \n",
       "4         114.62        97.776  16.844      3  2016  "
      ]
     },
     "execution_count": 96,
     "metadata": {},
     "output_type": "execute_result"
    }
   ],
   "source": [
    "cab_data[\"Month\"] = pd.DatetimeIndex(cab_data['Date of Travel']).month\n",
    "cab_data.head()"
   ]
  },
  {
   "cell_type": "code",
   "execution_count": 97,
   "id": "fafef662",
   "metadata": {},
   "outputs": [
    {
     "name": "stdout",
     "output_type": "stream",
     "text": [
      "<class 'pandas.core.frame.DataFrame'>\n",
      "RangeIndex: 359392 entries, 0 to 359391\n",
      "Data columns (total 10 columns):\n",
      " #   Column          Non-Null Count   Dtype  \n",
      "---  ------          --------------   -----  \n",
      " 0   Transaction ID  359392 non-null  int64  \n",
      " 1   Date of Travel  359392 non-null  object \n",
      " 2   Company         359392 non-null  object \n",
      " 3   City            359392 non-null  object \n",
      " 4   KM Travelled    359392 non-null  float64\n",
      " 5   Price Charged   359392 non-null  float64\n",
      " 6   Cost of Trip    359392 non-null  float64\n",
      " 7   Profit          359392 non-null  float64\n",
      " 8   Month           359392 non-null  int64  \n",
      " 9   Year            359392 non-null  int64  \n",
      "dtypes: float64(4), int64(3), object(3)\n",
      "memory usage: 27.4+ MB\n"
     ]
    }
   ],
   "source": [
    "# check the type of the Data columns\n",
    "\n",
    "cab_data.info()"
   ]
  },
  {
   "cell_type": "code",
   "execution_count": 98,
   "id": "d0f00b89",
   "metadata": {},
   "outputs": [
    {
     "name": "stdout",
     "output_type": "stream",
     "text": [
      "    Month  Transaction ID  KM Travelled  Price Charged  Cost of Trip  \\\n",
      "0       1    222547472560     493716.14     9541576.71  6.277777e+06   \n",
      "1       2    224339436560     497228.89     9791529.10  6.330425e+06   \n",
      "2       3    269938542870     597218.29    11581733.12  7.589920e+06   \n",
      "3       4    246654839981     546363.67    10444040.28  6.959367e+06   \n",
      "4       5    280128749369     615240.90    12201371.79  7.821800e+06   \n",
      "5       6    275039176666     607590.72    11700602.51  7.702366e+06   \n",
      "6       7    308722781170     684706.83    12464819.37  8.688491e+06   \n",
      "7       8    327550005971     722060.02    12848629.10  9.138784e+06   \n",
      "8       9    346767655077     763581.07    14212105.26  9.653698e+06   \n",
      "9      10    401289022069     885868.42    16186827.10  1.120289e+07   \n",
      "10     11    361011801848     795813.15    14374735.40  1.007402e+07   \n",
      "11     12    409270319789     901102.48    16834168.78  1.141490e+07   \n",
      "\n",
      "          Profit      Year  \n",
      "0   3.263800e+06  44056391  \n",
      "1   3.461104e+06  44437029  \n",
      "2   3.991813e+06  53407461  \n",
      "3   3.484673e+06  48802392  \n",
      "4   4.379572e+06  55386403  \n",
      "5   3.998237e+06  54338047  \n",
      "6   3.776329e+06  60965945  \n",
      "7   3.709845e+06  64622384  \n",
      "8   4.558407e+06  68368375  \n",
      "9   4.983937e+06  79084504  \n",
      "10  4.300719e+06  71033542  \n",
      "11  5.419267e+06  80407435  \n"
     ]
    }
   ],
   "source": [
    "results = cab_data.groupby(\"Month\").sum().reset_index()\n",
    "print(results)"
   ]
  },
  {
   "cell_type": "code",
   "execution_count": 99,
   "id": "297a40f1",
   "metadata": {},
   "outputs": [
    {
     "name": "stdout",
     "output_type": "stream",
     "text": [
      "       Transaction ID  KM Travelled  Price Charged  Cost of Trip      Profit  \\\n",
      "Month                                                                          \n",
      "1         48270517425     106922.81     1475238.93   1175249.587  299989.343   \n",
      "2         47818934476     105758.58     1477722.78   1162643.192  315079.588   \n",
      "3         58370023602     132791.71     1876128.51   1461269.649  414858.861   \n",
      "4         52190570589     114789.20     1534485.26   1262674.533  271810.727   \n",
      "5         62772318654     136532.57     1805996.26   1500227.374  305768.886   \n",
      "6         65053888705     144294.83     1922816.77   1587680.180  335136.590   \n",
      "7         71992753212     157854.57     2100425.89   1735846.265  364579.625   \n",
      "8         81892318705     179932.20     2431501.83   1979694.908  451806.922   \n",
      "9         87154924363     192718.15     2625449.59   2117548.809  507900.781   \n",
      "10       101702917060     224110.72     3138050.08   2463883.502  674166.578   \n",
      "11        88979101047     195642.93     2721588.02   2153893.136  567694.884   \n",
      "12        99881762741     219724.84     3218847.41   2420311.874  798535.536   \n",
      "\n",
      "           Year  \n",
      "Month            \n",
      "1       9548789  \n",
      "2       9465963  \n",
      "3      11545590  \n",
      "4      10323259  \n",
      "5      12405053  \n",
      "6      12850864  \n",
      "7      14216329  \n",
      "8      16158569  \n",
      "9      17181367  \n",
      "10     20040953  \n",
      "11     17505792  \n",
      "12     19623789  \n"
     ]
    }
   ],
   "source": [
    "pink_cab = cab_data[cab_data[\"Company\"] == \"Pink Cab\"]\n",
    "\n",
    "results_pink = pink_cab.groupby(\"Month\").sum()\n",
    "print(results_pink)"
   ]
  },
  {
   "cell_type": "code",
   "execution_count": 100,
   "id": "3e54687f",
   "metadata": {},
   "outputs": [
    {
     "name": "stdout",
     "output_type": "stream",
     "text": [
      "       Transaction ID  KM Travelled  Price Charged  Cost of Trip  \\\n",
      "Month                                                              \n",
      "1        174276955135     386793.33     8066337.78  5.102528e+06   \n",
      "2        176520502084     391470.31     8313806.32  5.167782e+06   \n",
      "3        211568519268     464426.58     9705604.61  6.128650e+06   \n",
      "4        194464269392     431574.47     8909555.02  5.696692e+06   \n",
      "5        217356430715     478708.33    10395375.53  6.321573e+06   \n",
      "6        209985287961     463295.89     9777785.74  6.114686e+06   \n",
      "7        236730027958     526852.26    10364393.48  6.952644e+06   \n",
      "8        245657687266     542127.82    10417127.27  7.159089e+06   \n",
      "9        259612730714     570862.92    11586655.67  7.536150e+06   \n",
      "10       299586105009     661757.70    13048777.02  8.739006e+06   \n",
      "11       272032700801     600170.22    11653147.38  7.920124e+06   \n",
      "12       309388557048     681377.64    13615321.37  8.994590e+06   \n",
      "\n",
      "             Profit      Year  \n",
      "Month                          \n",
      "1      2.963810e+06  34507602  \n",
      "2      3.146024e+06  34971066  \n",
      "3      3.576955e+06  41861871  \n",
      "4      3.212863e+06  38479133  \n",
      "5      4.073803e+06  42981350  \n",
      "6      3.663100e+06  41487183  \n",
      "7      3.411749e+06  46749616  \n",
      "8      3.258038e+06  48463815  \n",
      "9      4.050506e+06  51187008  \n",
      "10     4.309771e+06  59043551  \n",
      "11     3.733024e+06  53527750  \n",
      "12     4.620731e+06  60783646  \n"
     ]
    }
   ],
   "source": [
    "yellow_cab = cab_data[cab_data[\"Company\"] == \"Yellow Cab\"]\n",
    "\n",
    "results_yellow = yellow_cab.groupby(\"Month\").sum()\n",
    "print(results_yellow)"
   ]
  },
  {
   "cell_type": "code",
   "execution_count": 101,
   "id": "eb719315",
   "metadata": {},
   "outputs": [
    {
     "data": {
      "image/png": "[encoded data removed]",
      "text/plain": [
       "<Figure size 864x576 with 1 Axes>"
      ]
     },
     "metadata": {},
     "output_type": "display_data"
    }
   ],
   "source": [
    "#2\n",
    "# Hypothese 1\n",
    "# Cabs profitability over months\n",
    "\n",
    "month = np.arange(1, 13)\n",
    "width = 0.25 \n",
    "label = ['Jan', 'Feb', 'Mar', 'Apr', 'May','Jun', 'July','Aug','Sep', 'Oct', 'Nov','Dec']\n",
    "\n",
    "plt.figure(figsize=(12, 8))\n",
    "\n",
    "plt.bar(month, results_yellow[\"Profit\"], width=width, color = 'yellow', edgecolor = 'black', label=\"Yellow  Cab\")\n",
    "plt.bar(month + width, results_pink[\"Profit\"], width=width, color = 'pink', edgecolor = 'black', label=\"Pink  Cab\")\n",
    "plt.title(\"Cabs profitability over months\")\n",
    "plt.legend(edgecolor=\"Blue\", facecolor = \"lightblue\", shadow = True, fontsize = 8, labelcolor = \"darkred\")\n",
    "plt.xlabel(\"Month\", fontsize=14)\n",
    "plt.ylabel(\"Profit\", fontsize=14)\n",
    "plt.style.use('ggplot')\n",
    "\n",
    "plt.xticks(month, label, fontsize=12, rotation='90', color = 'Blue')\n",
    "\n",
    "plt.show()"
   ]
  },
  {
   "cell_type": "code",
   "execution_count": 102,
   "id": "88b8d808",
   "metadata": {},
   "outputs": [
    {
     "name": "stdout",
     "output_type": "stream",
     "text": [
      "   Customer ID Gender  Age  Income (USD/Month)\n",
      "0        29290   Male   28               10813\n",
      "1        27703   Male   27                9237\n",
      "2        28712   Male   53               11242\n",
      "3        28020   Male   23               23327\n",
      "4        27182   Male   33                8536\n",
      "49171\n"
     ]
    }
   ],
   "source": [
    "# Hypothese 2\n",
    "# Cab using according to the gender\n",
    "\n",
    "customer_data = pd.read_csv(\"Customer_ID.csv\")\n",
    "print(customer_data.head())\n",
    "print(len(customer_data))"
   ]
  },
  {
   "cell_type": "code",
   "execution_count": 103,
   "id": "09270f23",
   "metadata": {},
   "outputs": [
    {
     "data": {
      "text/plain": [
       "0"
      ]
     },
     "execution_count": 103,
     "metadata": {},
     "output_type": "execute_result"
    }
   ],
   "source": [
    "customer_data[\"Customer ID\"].duplicated().sum()"
   ]
  },
  {
   "cell_type": "code",
   "execution_count": 104,
   "id": "26ad84dd",
   "metadata": {},
   "outputs": [
    {
     "name": "stdout",
     "output_type": "stream",
     "text": [
      "   Transaction ID  Customer ID Payment_Mode\n",
      "0        10000011        29290         Card\n",
      "1        10000012        27703         Card\n",
      "2        10000013        28712         Cash\n",
      "3        10000014        28020         Cash\n",
      "4        10000015        27182         Card\n",
      "440098\n"
     ]
    }
   ],
   "source": [
    "transaction_data = pd.read_csv(\"Transaction_ID.csv\")\n",
    "print(transaction_data.head())\n",
    "print(len(transaction_data))"
   ]
  },
  {
   "cell_type": "code",
   "execution_count": 105,
   "id": "785db54e",
   "metadata": {},
   "outputs": [
    {
     "name": "stdout",
     "output_type": "stream",
     "text": [
      "        Transaction ID  Customer ID Payment_Mode  Gender  Age  \\\n",
      "0             10000011        29290         Card    Male   28   \n",
      "1             10351127        29290         Cash    Male   28   \n",
      "2             10412921        29290         Card    Male   28   \n",
      "3             10000012        27703         Card    Male   27   \n",
      "4             10320494        27703         Card    Male   27   \n",
      "...                ...          ...          ...     ...  ...   \n",
      "440093        10439799        12490         Cash    Male   33   \n",
      "440094        10439820        14971         Card    Male   30   \n",
      "440095        10439838        41414         Card    Male   38   \n",
      "440096        10439840        41677         Cash    Male   23   \n",
      "440097        10439846        39761         Card  Female   32   \n",
      "\n",
      "        Income (USD/Month)  \n",
      "0                    10813  \n",
      "1                    10813  \n",
      "2                    10813  \n",
      "3                     9237  \n",
      "4                     9237  \n",
      "...                    ...  \n",
      "440093               18713  \n",
      "440094               15346  \n",
      "440095                3960  \n",
      "440096               19454  \n",
      "440097               10128  \n",
      "\n",
      "[440098 rows x 6 columns]\n"
     ]
    }
   ],
   "source": [
    "#move columns to another dataframe\n",
    "\n",
    "transaction_data = transaction_data.merge(customer_data[[\"Customer ID\",\"Gender\", \"Age\", \"Income (USD/Month)\"]], on=\"Customer ID\")\n",
    "print(transaction_data)"
   ]
  },
  {
   "cell_type": "code",
   "execution_count": 106,
   "id": "c4083d06",
   "metadata": {},
   "outputs": [
    {
     "name": "stdout",
     "output_type": "stream",
     "text": [
      "<class 'pandas.core.frame.DataFrame'>\n",
      "Int64Index: 440098 entries, 0 to 440097\n",
      "Data columns (total 6 columns):\n",
      " #   Column              Non-Null Count   Dtype \n",
      "---  ------              --------------   ----- \n",
      " 0   Transaction ID      440098 non-null  int64 \n",
      " 1   Customer ID         440098 non-null  int64 \n",
      " 2   Payment_Mode        440098 non-null  object\n",
      " 3   Gender              440098 non-null  object\n",
      " 4   Age                 440098 non-null  int64 \n",
      " 5   Income (USD/Month)  440098 non-null  int64 \n",
      "dtypes: int64(4), object(2)\n",
      "memory usage: 23.5+ MB\n"
     ]
    }
   ],
   "source": [
    "transaction_data.info()"
   ]
  },
  {
   "cell_type": "code",
   "execution_count": 108,
   "id": "1f2ed13e",
   "metadata": {},
   "outputs": [
    {
     "data": {
      "text/plain": [
       "<function matplotlib.pyplot.show(close=None, block=None)>"
      ]
     },
     "execution_count": 108,
     "metadata": {},
     "output_type": "execute_result"
    },
    {
     "data": {
      "image/png": "[encoded data removed]",
      "text/plain": [
       "<Figure size 432x432 with 1 Axes>"
      ]
     },
     "metadata": {},
     "output_type": "display_data"
    }
   ],
   "source": [
    "\n",
    "y = transaction_data[\"Gender\"]\n",
    "\n",
    "plt.figure(figsize=(6, 6))\n",
    "\n",
    "plt.hist(y, color='Blue')\n",
    "plt.title(label = \"Cab using according to the gender\")\n",
    "plt.ylabel(\"Count\")\n",
    "plt.show"
   ]
  },
  {
   "cell_type": "code",
   "execution_count": null,
   "id": "9d047352",
   "metadata": {},
   "outputs": [],
   "source": []
  }
 ],
 "metadata": {
  "kernelspec": {
   "display_name": "Python 3 (ipykernel)",
   "language": "python",
   "name": "python3"
  },
  "language_info": {
   "codemirror_mode": {
    "name": "ipython",
    "version": 3
   },
   "file_extension": ".py",
   "mimetype": "text/x-python",
   "name": "python",
   "nbconvert_exporter": "python",
   "pygments_lexer": "ipython3",
   "version": "3.9.7"
  }
 },
 "nbformat": 4,
 "nbformat_minor": 5
}
